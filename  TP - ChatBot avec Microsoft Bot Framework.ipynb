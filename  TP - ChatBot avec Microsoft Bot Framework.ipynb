{
 "cells": [
  {
   "attachments": {},
   "cell_type": "markdown",
   "metadata": {},
   "source": [
    "# TP - ChatBot avec Microsoft Bot Framework\n",
    "\n",
    "<img src='https://learn.microsoft.com/fr-fr/azure/bot-service/media/bot-service-overview.png?view=azure-bot-service-4.0'>\n",
    "\n",
    "Dans ce TP, nous allons créer un chatbot avec Microsoft Bot Framework. \n",
    "\n",
    "L'objectif sera de compléter le code d'un bot déjà existant pour qu'il puisse répondre à des possède des fonctionnalités avancées.\n",
    "\n",
    "\n",
    "1. Le bot doit pouvoir demander à l'utilisateur de saisir des informations et de les stocker dans une base de données : \n",
    "- Nom,\n",
    "- Age,\n",
    "- Ville,\n",
    "- Moyen de transport préféré,\n",
    "- Photo de profil.\n",
    "\n",
    "Modifier le fichier user_profile.py pour ajouter les fonctions suivantes et transformer l'étape color en city afin de permettre à l'utilisateur de saisir sa ville. \n",
    "\n",
    "2. Le bot doit pouvoir Traduire du texte du français vers l'anglais en utilisant la méthode trad de la classe ActuBot.\n",
    "\n",
    "3. Le Bot doit pouvoir gérer les données de l'utilisateur : \n",
    "- Afficher le profil de l'utilisateur, \n",
    "- Modifier le profil de l'utilisateur, \n",
    "- Supprimer le profil de l'utilisateur.\n",
    "\n",
    "<img src='https://xn--kvin-duranty-beb.fr/wp-content/uploads/2023/03/profil.png' width=150>\n",
    "<img src='https://xn--kvin-duranty-beb.fr/wp-content/uploads/2023/03/menu-profile.png' width=150>\n",
    "<img src='https://xn--kvin-duranty-beb.fr/wp-content/uploads/2023/03/profile-card.png' width=150>\n",
    "<img src='https://xn--kvin-duranty-beb.fr/wp-content/uploads/2023/03/delete-profile.png' width=150>\n",
    "\n",
    "\n",
    "4. **Bonus** Le bot doit pouvoir faire une synthèse vocale de l'actualité du jour.\n",
    "\n",
    "\n",
    "**Consignes :**\n",
    "- Pour les points 2 et 3, modifier uniquement les fonctions `traduction` et `profil` du fichier `actu_bot.py`.\n",
    "\n",
    "- A chaque fonctionnalité utilisée, le bot affichera le menu procipal `[Profil, Traduction, Actualité]` pour permettre à l'utilisateur de choisir une autre fonctionnalité. \n",
    "\n",
    "Pour cela, utilisez `self.fonctionality = None` pour réinitialiser la fonctionnalité et `return await self.intro(turn_context)` pour afficher le menu principal."
   ]
  },
  {
   "cell_type": "code",
   "execution_count": 11,
   "metadata": {},
   "outputs": [],
   "source": [
    "import openai\n",
    "\n",
    "from config import DefaultConfig\n",
    "\n",
    "def trad(phrase:str):\n",
    "    openai.api_key = DefaultConfig().OPENAI_KEY\n",
    "    return openai.ChatCompletion.create(\n",
    "        model=\"dalle-2-translation\",\n",
    "        messages = [\n",
    "        {\"role\": \"system\", \"content\": \"Tu es un traducteur professionnel qui traduit du Français vers l'anglais\"},\n",
    "        {\"role\": \"user\", \"content\": f\"Traduire le texte suivant de français en anglais : '{phrase}'\"}],\n",
    "        temperature=0.5,\n",
    "        max_tokens=50,\n",
    "    )['choices'][0]['message'][\"content\"]"
   ]
  },
  {
   "cell_type": "code",
   "execution_count": 10,
   "metadata": {},
   "outputs": [
    {
     "ename": "InvalidRequestError",
     "evalue": "The model `dalle-2-translation` does not exist",
     "output_type": "error",
     "traceback": [
      "\u001b[0;31m---------------------------------------------------------------------------\u001b[0m",
      "\u001b[0;31mInvalidRequestError\u001b[0m                       Traceback (most recent call last)",
      "\u001b[1;32m/Users/kevinduranty/Desktop/Ynov - NLP/YNOV/python/Actubot-GPT TP/ TP - ChatBot avec Microsoft Bot Framework.ipynb Cell 3\u001b[0m in \u001b[0;36m<cell line: 1>\u001b[0;34m()\u001b[0m\n\u001b[0;32m----> <a href='vscode-notebook-cell:/Users/kevinduranty/Desktop/Ynov%20-%20NLP/YNOV/python/Actubot-GPT%20TP/%20TP%20-%20ChatBot%20avec%20Microsoft%20Bot%20Framework.ipynb#W2sZmlsZQ%3D%3D?line=0'>1</a>\u001b[0m trad(\u001b[39m'\u001b[39;49m\u001b[39mBonjour\u001b[39;49m\u001b[39m'\u001b[39;49m)\n",
      "\u001b[1;32m/Users/kevinduranty/Desktop/Ynov - NLP/YNOV/python/Actubot-GPT TP/ TP - ChatBot avec Microsoft Bot Framework.ipynb Cell 3\u001b[0m in \u001b[0;36mtrad\u001b[0;34m(phrase)\u001b[0m\n\u001b[1;32m      <a href='vscode-notebook-cell:/Users/kevinduranty/Desktop/Ynov%20-%20NLP/YNOV/python/Actubot-GPT%20TP/%20TP%20-%20ChatBot%20avec%20Microsoft%20Bot%20Framework.ipynb#W2sZmlsZQ%3D%3D?line=4'>5</a>\u001b[0m \u001b[39mdef\u001b[39;00m \u001b[39mtrad\u001b[39m(phrase:\u001b[39mstr\u001b[39m):\n\u001b[1;32m      <a href='vscode-notebook-cell:/Users/kevinduranty/Desktop/Ynov%20-%20NLP/YNOV/python/Actubot-GPT%20TP/%20TP%20-%20ChatBot%20avec%20Microsoft%20Bot%20Framework.ipynb#W2sZmlsZQ%3D%3D?line=5'>6</a>\u001b[0m     openai\u001b[39m.\u001b[39mapi_key \u001b[39m=\u001b[39m DefaultConfig()\u001b[39m.\u001b[39mOPENAI_KEY\n\u001b[0;32m----> <a href='vscode-notebook-cell:/Users/kevinduranty/Desktop/Ynov%20-%20NLP/YNOV/python/Actubot-GPT%20TP/%20TP%20-%20ChatBot%20avec%20Microsoft%20Bot%20Framework.ipynb#W2sZmlsZQ%3D%3D?line=6'>7</a>\u001b[0m     \u001b[39mreturn\u001b[39;00m openai\u001b[39m.\u001b[39;49mChatCompletion\u001b[39m.\u001b[39;49mcreate(\n\u001b[1;32m      <a href='vscode-notebook-cell:/Users/kevinduranty/Desktop/Ynov%20-%20NLP/YNOV/python/Actubot-GPT%20TP/%20TP%20-%20ChatBot%20avec%20Microsoft%20Bot%20Framework.ipynb#W2sZmlsZQ%3D%3D?line=7'>8</a>\u001b[0m         model\u001b[39m=\u001b[39;49m\u001b[39m\"\u001b[39;49m\u001b[39mdalle-2-translation\u001b[39;49m\u001b[39m\"\u001b[39;49m,\n\u001b[1;32m      <a href='vscode-notebook-cell:/Users/kevinduranty/Desktop/Ynov%20-%20NLP/YNOV/python/Actubot-GPT%20TP/%20TP%20-%20ChatBot%20avec%20Microsoft%20Bot%20Framework.ipynb#W2sZmlsZQ%3D%3D?line=8'>9</a>\u001b[0m         messages \u001b[39m=\u001b[39;49m [\n\u001b[1;32m     <a href='vscode-notebook-cell:/Users/kevinduranty/Desktop/Ynov%20-%20NLP/YNOV/python/Actubot-GPT%20TP/%20TP%20-%20ChatBot%20avec%20Microsoft%20Bot%20Framework.ipynb#W2sZmlsZQ%3D%3D?line=9'>10</a>\u001b[0m         {\u001b[39m\"\u001b[39;49m\u001b[39mrole\u001b[39;49m\u001b[39m\"\u001b[39;49m: \u001b[39m\"\u001b[39;49m\u001b[39msystem\u001b[39;49m\u001b[39m\"\u001b[39;49m, \u001b[39m\"\u001b[39;49m\u001b[39mcontent\u001b[39;49m\u001b[39m\"\u001b[39;49m: \u001b[39m\"\u001b[39;49m\u001b[39mTu es un traducteur professionnel qui traduit du Français vers l\u001b[39;49m\u001b[39m'\u001b[39;49m\u001b[39manglais\u001b[39;49m\u001b[39m\"\u001b[39;49m},\n\u001b[1;32m     <a href='vscode-notebook-cell:/Users/kevinduranty/Desktop/Ynov%20-%20NLP/YNOV/python/Actubot-GPT%20TP/%20TP%20-%20ChatBot%20avec%20Microsoft%20Bot%20Framework.ipynb#W2sZmlsZQ%3D%3D?line=10'>11</a>\u001b[0m         {\u001b[39m\"\u001b[39;49m\u001b[39mrole\u001b[39;49m\u001b[39m\"\u001b[39;49m: \u001b[39m\"\u001b[39;49m\u001b[39muser\u001b[39;49m\u001b[39m\"\u001b[39;49m, \u001b[39m\"\u001b[39;49m\u001b[39mcontent\u001b[39;49m\u001b[39m\"\u001b[39;49m: \u001b[39mf\u001b[39;49m\u001b[39m\"\u001b[39;49m\u001b[39mTraduire le texte suivant de français en anglais : \u001b[39;49m\u001b[39m'\u001b[39;49m\u001b[39m{\u001b[39;49;00mphrase\u001b[39m}\u001b[39;49;00m\u001b[39m'\u001b[39;49m\u001b[39m\"\u001b[39;49m}],\n\u001b[1;32m     <a href='vscode-notebook-cell:/Users/kevinduranty/Desktop/Ynov%20-%20NLP/YNOV/python/Actubot-GPT%20TP/%20TP%20-%20ChatBot%20avec%20Microsoft%20Bot%20Framework.ipynb#W2sZmlsZQ%3D%3D?line=11'>12</a>\u001b[0m         temperature\u001b[39m=\u001b[39;49m\u001b[39m0.5\u001b[39;49m,\n\u001b[1;32m     <a href='vscode-notebook-cell:/Users/kevinduranty/Desktop/Ynov%20-%20NLP/YNOV/python/Actubot-GPT%20TP/%20TP%20-%20ChatBot%20avec%20Microsoft%20Bot%20Framework.ipynb#W2sZmlsZQ%3D%3D?line=12'>13</a>\u001b[0m         max_tokens\u001b[39m=\u001b[39;49m\u001b[39m50\u001b[39;49m,\n\u001b[1;32m     <a href='vscode-notebook-cell:/Users/kevinduranty/Desktop/Ynov%20-%20NLP/YNOV/python/Actubot-GPT%20TP/%20TP%20-%20ChatBot%20avec%20Microsoft%20Bot%20Framework.ipynb#W2sZmlsZQ%3D%3D?line=13'>14</a>\u001b[0m     )[\u001b[39m'\u001b[39m\u001b[39mchoices\u001b[39m\u001b[39m'\u001b[39m][\u001b[39m0\u001b[39m][\u001b[39m'\u001b[39m\u001b[39mmessage\u001b[39m\u001b[39m'\u001b[39m][\u001b[39m\"\u001b[39m\u001b[39mcontent\u001b[39m\u001b[39m\"\u001b[39m]\n",
      "File \u001b[0;32m/Library/Frameworks/Python.framework/Versions/3.10/lib/python3.10/site-packages/openai/api_resources/chat_completion.py:25\u001b[0m, in \u001b[0;36mChatCompletion.create\u001b[0;34m(cls, *args, **kwargs)\u001b[0m\n\u001b[1;32m     23\u001b[0m \u001b[39mwhile\u001b[39;00m \u001b[39mTrue\u001b[39;00m:\n\u001b[1;32m     24\u001b[0m     \u001b[39mtry\u001b[39;00m:\n\u001b[0;32m---> 25\u001b[0m         \u001b[39mreturn\u001b[39;00m \u001b[39msuper\u001b[39;49m()\u001b[39m.\u001b[39;49mcreate(\u001b[39m*\u001b[39;49margs, \u001b[39m*\u001b[39;49m\u001b[39m*\u001b[39;49mkwargs)\n\u001b[1;32m     26\u001b[0m     \u001b[39mexcept\u001b[39;00m TryAgain \u001b[39mas\u001b[39;00m e:\n\u001b[1;32m     27\u001b[0m         \u001b[39mif\u001b[39;00m timeout \u001b[39mis\u001b[39;00m \u001b[39mnot\u001b[39;00m \u001b[39mNone\u001b[39;00m \u001b[39mand\u001b[39;00m time\u001b[39m.\u001b[39mtime() \u001b[39m>\u001b[39m start \u001b[39m+\u001b[39m timeout:\n",
      "File \u001b[0;32m/Library/Frameworks/Python.framework/Versions/3.10/lib/python3.10/site-packages/openai/api_resources/abstract/engine_api_resource.py:153\u001b[0m, in \u001b[0;36mEngineAPIResource.create\u001b[0;34m(cls, api_key, api_base, api_type, request_id, api_version, organization, **params)\u001b[0m\n\u001b[1;32m    127\u001b[0m \u001b[39m@classmethod\u001b[39m\n\u001b[1;32m    128\u001b[0m \u001b[39mdef\u001b[39;00m \u001b[39mcreate\u001b[39m(\n\u001b[1;32m    129\u001b[0m     \u001b[39mcls\u001b[39m,\n\u001b[0;32m   (...)\u001b[0m\n\u001b[1;32m    136\u001b[0m     \u001b[39m*\u001b[39m\u001b[39m*\u001b[39mparams,\n\u001b[1;32m    137\u001b[0m ):\n\u001b[1;32m    138\u001b[0m     (\n\u001b[1;32m    139\u001b[0m         deployment_id,\n\u001b[1;32m    140\u001b[0m         engine,\n\u001b[0;32m   (...)\u001b[0m\n\u001b[1;32m    150\u001b[0m         api_key, api_base, api_type, api_version, organization, \u001b[39m*\u001b[39m\u001b[39m*\u001b[39mparams\n\u001b[1;32m    151\u001b[0m     )\n\u001b[0;32m--> 153\u001b[0m     response, _, api_key \u001b[39m=\u001b[39m requestor\u001b[39m.\u001b[39;49mrequest(\n\u001b[1;32m    154\u001b[0m         \u001b[39m\"\u001b[39;49m\u001b[39mpost\u001b[39;49m\u001b[39m\"\u001b[39;49m,\n\u001b[1;32m    155\u001b[0m         url,\n\u001b[1;32m    156\u001b[0m         params\u001b[39m=\u001b[39;49mparams,\n\u001b[1;32m    157\u001b[0m         headers\u001b[39m=\u001b[39;49mheaders,\n\u001b[1;32m    158\u001b[0m         stream\u001b[39m=\u001b[39;49mstream,\n\u001b[1;32m    159\u001b[0m         request_id\u001b[39m=\u001b[39;49mrequest_id,\n\u001b[1;32m    160\u001b[0m         request_timeout\u001b[39m=\u001b[39;49mrequest_timeout,\n\u001b[1;32m    161\u001b[0m     )\n\u001b[1;32m    163\u001b[0m     \u001b[39mif\u001b[39;00m stream:\n\u001b[1;32m    164\u001b[0m         \u001b[39m# must be an iterator\u001b[39;00m\n\u001b[1;32m    165\u001b[0m         \u001b[39massert\u001b[39;00m \u001b[39mnot\u001b[39;00m \u001b[39misinstance\u001b[39m(response, OpenAIResponse)\n",
      "File \u001b[0;32m/Library/Frameworks/Python.framework/Versions/3.10/lib/python3.10/site-packages/openai/api_requestor.py:226\u001b[0m, in \u001b[0;36mAPIRequestor.request\u001b[0;34m(self, method, url, params, headers, files, stream, request_id, request_timeout)\u001b[0m\n\u001b[1;32m    205\u001b[0m \u001b[39mdef\u001b[39;00m \u001b[39mrequest\u001b[39m(\n\u001b[1;32m    206\u001b[0m     \u001b[39mself\u001b[39m,\n\u001b[1;32m    207\u001b[0m     method,\n\u001b[0;32m   (...)\u001b[0m\n\u001b[1;32m    214\u001b[0m     request_timeout: Optional[Union[\u001b[39mfloat\u001b[39m, Tuple[\u001b[39mfloat\u001b[39m, \u001b[39mfloat\u001b[39m]]] \u001b[39m=\u001b[39m \u001b[39mNone\u001b[39;00m,\n\u001b[1;32m    215\u001b[0m ) \u001b[39m-\u001b[39m\u001b[39m>\u001b[39m Tuple[Union[OpenAIResponse, Iterator[OpenAIResponse]], \u001b[39mbool\u001b[39m, \u001b[39mstr\u001b[39m]:\n\u001b[1;32m    216\u001b[0m     result \u001b[39m=\u001b[39m \u001b[39mself\u001b[39m\u001b[39m.\u001b[39mrequest_raw(\n\u001b[1;32m    217\u001b[0m         method\u001b[39m.\u001b[39mlower(),\n\u001b[1;32m    218\u001b[0m         url,\n\u001b[0;32m   (...)\u001b[0m\n\u001b[1;32m    224\u001b[0m         request_timeout\u001b[39m=\u001b[39mrequest_timeout,\n\u001b[1;32m    225\u001b[0m     )\n\u001b[0;32m--> 226\u001b[0m     resp, got_stream \u001b[39m=\u001b[39m \u001b[39mself\u001b[39;49m\u001b[39m.\u001b[39;49m_interpret_response(result, stream)\n\u001b[1;32m    227\u001b[0m     \u001b[39mreturn\u001b[39;00m resp, got_stream, \u001b[39mself\u001b[39m\u001b[39m.\u001b[39mapi_key\n",
      "File \u001b[0;32m/Library/Frameworks/Python.framework/Versions/3.10/lib/python3.10/site-packages/openai/api_requestor.py:619\u001b[0m, in \u001b[0;36mAPIRequestor._interpret_response\u001b[0;34m(self, result, stream)\u001b[0m\n\u001b[1;32m    611\u001b[0m     \u001b[39mreturn\u001b[39;00m (\n\u001b[1;32m    612\u001b[0m         \u001b[39mself\u001b[39m\u001b[39m.\u001b[39m_interpret_response_line(\n\u001b[1;32m    613\u001b[0m             line, result\u001b[39m.\u001b[39mstatus_code, result\u001b[39m.\u001b[39mheaders, stream\u001b[39m=\u001b[39m\u001b[39mTrue\u001b[39;00m\n\u001b[1;32m    614\u001b[0m         )\n\u001b[1;32m    615\u001b[0m         \u001b[39mfor\u001b[39;00m line \u001b[39min\u001b[39;00m parse_stream(result\u001b[39m.\u001b[39miter_lines())\n\u001b[1;32m    616\u001b[0m     ), \u001b[39mTrue\u001b[39;00m\n\u001b[1;32m    617\u001b[0m \u001b[39melse\u001b[39;00m:\n\u001b[1;32m    618\u001b[0m     \u001b[39mreturn\u001b[39;00m (\n\u001b[0;32m--> 619\u001b[0m         \u001b[39mself\u001b[39;49m\u001b[39m.\u001b[39;49m_interpret_response_line(\n\u001b[1;32m    620\u001b[0m             result\u001b[39m.\u001b[39;49mcontent\u001b[39m.\u001b[39;49mdecode(\u001b[39m\"\u001b[39;49m\u001b[39mutf-8\u001b[39;49m\u001b[39m\"\u001b[39;49m),\n\u001b[1;32m    621\u001b[0m             result\u001b[39m.\u001b[39;49mstatus_code,\n\u001b[1;32m    622\u001b[0m             result\u001b[39m.\u001b[39;49mheaders,\n\u001b[1;32m    623\u001b[0m             stream\u001b[39m=\u001b[39;49m\u001b[39mFalse\u001b[39;49;00m,\n\u001b[1;32m    624\u001b[0m         ),\n\u001b[1;32m    625\u001b[0m         \u001b[39mFalse\u001b[39;00m,\n\u001b[1;32m    626\u001b[0m     )\n",
      "File \u001b[0;32m/Library/Frameworks/Python.framework/Versions/3.10/lib/python3.10/site-packages/openai/api_requestor.py:679\u001b[0m, in \u001b[0;36mAPIRequestor._interpret_response_line\u001b[0;34m(self, rbody, rcode, rheaders, stream)\u001b[0m\n\u001b[1;32m    677\u001b[0m stream_error \u001b[39m=\u001b[39m stream \u001b[39mand\u001b[39;00m \u001b[39m\"\u001b[39m\u001b[39merror\u001b[39m\u001b[39m\"\u001b[39m \u001b[39min\u001b[39;00m resp\u001b[39m.\u001b[39mdata\n\u001b[1;32m    678\u001b[0m \u001b[39mif\u001b[39;00m stream_error \u001b[39mor\u001b[39;00m \u001b[39mnot\u001b[39;00m \u001b[39m200\u001b[39m \u001b[39m<\u001b[39m\u001b[39m=\u001b[39m rcode \u001b[39m<\u001b[39m \u001b[39m300\u001b[39m:\n\u001b[0;32m--> 679\u001b[0m     \u001b[39mraise\u001b[39;00m \u001b[39mself\u001b[39m\u001b[39m.\u001b[39mhandle_error_response(\n\u001b[1;32m    680\u001b[0m         rbody, rcode, resp\u001b[39m.\u001b[39mdata, rheaders, stream_error\u001b[39m=\u001b[39mstream_error\n\u001b[1;32m    681\u001b[0m     )\n\u001b[1;32m    682\u001b[0m \u001b[39mreturn\u001b[39;00m resp\n",
      "\u001b[0;31mInvalidRequestError\u001b[0m: The model `dalle-2-translation` does not exist"
     ]
    }
   ],
   "source": [
    "trad('Bonjour')"
   ]
  },
  {
   "cell_type": "code",
   "execution_count": null,
   "metadata": {},
   "outputs": [],
   "source": [
    "def trad(self, phrase:str):\n",
    "       openai.api_key = DefaultConfig().OPENAI_KEY\n",
    "       output_text = openai.Completion.create(\n",
    "           engine=\"dalle-2-translation\",\n",
    "           prompt=(f\"Traduire le texte suivant de français en anglais : '{phrase}'\"),\n",
    "           temperature=0.5,\n",
    "           max_tokens=50,\n",
    "           n=1,\n",
    "           stop=None,\n",
    "           frequency_penalty=0,\n",
    "           presence_penalty=0\n",
    "       )\n"
   ]
  },
  {
   "cell_type": "code",
   "execution_count": null,
   "metadata": {},
   "outputs": [],
   "source": []
  },
  {
   "cell_type": "code",
   "execution_count": 21,
   "metadata": {},
   "outputs": [],
   "source": [
    "import os\n",
    "import openai\n",
    "\n",
    "\n",
    "def trad(text):\n",
    "  openai.api_key = DefaultConfig().OPENAI_KEY\n",
    "\n",
    "  return openai.Completion.create(\n",
    "    model=\"text-davinci-003\",\n",
    "    prompt=f\"Translate this into English : {text}\",\n",
    "    temperature=0.3,\n",
    "    max_tokens=100,\n",
    "    top_p=1.0,\n",
    "    frequency_penalty=0.0,\n",
    "    presence_penalty=0.0\n",
    "  )['choices'][0].text"
   ]
  },
  {
   "cell_type": "code",
   "execution_count": 22,
   "metadata": {},
   "outputs": [
    {
     "data": {
      "text/plain": [
       "'\\n\\nHello everyone!'"
      ]
     },
     "execution_count": 22,
     "metadata": {},
     "output_type": "execute_result"
    }
   ],
   "source": [
    "trad('Bonjour tout le monde')"
   ]
  },
  {
   "cell_type": "code",
   "execution_count": 25,
   "metadata": {},
   "outputs": [
    {
     "data": {
      "text/plain": [
       "'BonjourNone'"
      ]
     },
     "execution_count": 25,
     "metadata": {},
     "output_type": "execute_result"
    }
   ],
   "source": [
    "f'Bonjour{}'"
   ]
  },
  {
   "cell_type": "markdown",
   "metadata": {},
   "source": []
  },
  {
   "attachments": {},
   "cell_type": "markdown",
   "metadata": {},
   "source": [
    "# "
   ]
  }
 ],
 "metadata": {
  "kernelspec": {
   "display_name": "Python 3",
   "language": "python",
   "name": "python3"
  },
  "language_info": {
   "codemirror_mode": {
    "name": "ipython",
    "version": 3
   },
   "file_extension": ".py",
   "mimetype": "text/x-python",
   "name": "python",
   "nbconvert_exporter": "python",
   "pygments_lexer": "ipython3",
   "version": "3.10.6"
  },
  "orig_nbformat": 4
 },
 "nbformat": 4,
 "nbformat_minor": 2
}
